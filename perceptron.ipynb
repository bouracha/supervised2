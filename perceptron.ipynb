{
 "cells": [
  {
   "cell_type": "code",
   "execution_count": 546,
   "metadata": {},
   "outputs": [],
   "source": [
    "import numpy as np\n",
    "import matplotlib.pyplot as plt\n",
    "\n",
    "from sklearn.model_selection import train_test_split\n",
    "\n",
    "import time"
   ]
  },
  {
   "cell_type": "code",
   "execution_count": 23,
   "metadata": {},
   "outputs": [],
   "source": [
    "def plot_digit(x, index):\n",
    "    image = x[index].reshape(16,16)\n",
    "\n",
    "    plt.imshow(image, 'binary')\n",
    "    plt.axis('off')\n",
    "    plt.show()"
   ]
  },
  {
   "cell_type": "code",
   "execution_count": 16,
   "metadata": {},
   "outputs": [],
   "source": [
    "def sign(x):\n",
    "    if x<0:\n",
    "        return -1.0\n",
    "    else:\n",
    "        return 1.0"
   ]
  },
  {
   "cell_type": "code",
   "execution_count": 597,
   "metadata": {},
   "outputs": [],
   "source": [
    "def get_data(data_path):\n",
    "    data = np.loadtxt(data_path)\n",
    "    \n",
    "    X = data[:, list(range(1, data.shape[1]))] \n",
    "    y = data[:, [0]]\n",
    "    \n",
    "    return X, y"
   ]
  },
  {
   "cell_type": "code",
   "execution_count": 613,
   "metadata": {},
   "outputs": [],
   "source": [
    "def make_kernel(X1, X2, d):\n",
    "    \n",
    "    kernel_matrix = np.power(np.dot(X1, X2.T), d)\n",
    "\n",
    "    return kernel_matrix.T "
   ]
  },
  {
   "cell_type": "code",
   "execution_count": 591,
   "metadata": {},
   "outputs": [],
   "source": [
    "def prediction(kernel_matrix, alpha, t):\n",
    "    \n",
    "    kernel_function = alpha*kernel_matrix[t]\n",
    "    y_pred = np.sum(kernel_function, axis=1)\n",
    "    number_predicted = np.argmax(y_pred)\n",
    "    \n",
    "    return (number_predicted)"
   ]
  },
  {
   "cell_type": "code",
   "execution_count": 592,
   "metadata": {},
   "outputs": [],
   "source": [
    "def update_alpha(alpha, t, y_hat_index, y_index):\n",
    "    \n",
    "    alpha[y_hat_index][t] = alpha[y_hat_index][t] - 1\n",
    "    alpha[y_index][t] = alpha[y_index][t] + 1\n",
    "    return alpha"
   ]
  },
  {
   "cell_type": "code",
   "execution_count": 663,
   "metadata": {},
   "outputs": [],
   "source": [
    "def epoch(kernel, alpha, x, y, update=False):\n",
    "    m, n = x.shape\n",
    "    num_correct = 0\n",
    "    for t in range(m):\n",
    "        y_hat = prediction(kernel, alpha, t)\n",
    "\n",
    "        y_index = int(y[t])\n",
    "        if y_hat == y_index:\n",
    "            num_correct = num_correct + 1\n",
    "        elif update:\n",
    "            alpha = update_alpha(alpha, t, y_hat, y_index)\n",
    "    return alpha, num_correct/m"
   ]
  },
  {
   "cell_type": "code",
   "execution_count": 717,
   "metadata": {},
   "outputs": [],
   "source": [
    "def run(x, y, d, k, max_num_epochs, seed):\n",
    "    \n",
    "    #Split dataset\n",
    "    x_training, x_test, y_training, y_test = train_test_split(x, y, test_size=0.2, random_state=seed)\n",
    "    x_train, x_cv, y_train, y_cv = train_test_split(x_training, y_training, test_size=0.25, random_state=seed)\n",
    "    m_train, n_test = x_train.shape\n",
    "    m_test, n_test = x_test.shape\n",
    "    \n",
    "    #Form data kernels\n",
    "    train_kernel_matrix = make_kernel(x_train, x_train, d)\n",
    "    cv_kernel_matrix = make_kernel(x_train, x_cv, d)\n",
    "    test_kernel_matrix = make_kernel(x_train, x_test, d)\n",
    "\n",
    "    #Initialisations\n",
    "    alpha = np.zeros((k, m_train))\n",
    "    prev_alpha = alpha\n",
    "    prev_cv_accuracy = 0.0\n",
    "\n",
    "    max_num_epochs = 20\n",
    "    for i in range(max_num_epochs):\n",
    "        alpha, training_accuracy = epoch(train_kernel_matrix, alpha, x_train, y_train, True)\n",
    "\n",
    "        alpha, cv_accuracy = epoch(cv_kernel_matrix, alpha, x_cv, y_cv, False)\n",
    "\n",
    "        if (prev_cv_accuracy > cv_accuracy):\n",
    "            alpha = prev_alpha\n",
    "            alpha, train_accuracy = epoch(train_kernel_matrix, alpha, x_train, y_train, False)\n",
    "            alpha, cv_accuracy = epoch(cv_kernel_matrix, alpha, x_cv, y_cv, False)\n",
    "            alpha, test_accuracy = epoch(test_kernel_matrix, alpha, x_test, y_test, False)\n",
    "            break\n",
    "        prev_cv_accuracy = cv_accuracy\n",
    "        \n",
    "    return alpha, train_accuracy, cv_accuracy, test_accuracy"
   ]
  },
  {
   "cell_type": "markdown",
   "metadata": {},
   "source": [
    "## 123, ABC, baby you and me dataset"
   ]
  },
  {
   "cell_type": "code",
   "execution_count": 651,
   "metadata": {},
   "outputs": [],
   "source": [
    "#Get data\n",
    "x_train, y_train = get_data(\"dtrain123.dat\")\n",
    "x_test, y_test = get_data(\"dtest123.dat\")\n",
    "m_train, n_train = x_train.shape\n",
    "m_test, n_test = x_test.shape\n",
    "#1,2,3 -> 0,1,2\n",
    "y_train = y_train - 1\n",
    "y_test = y_test - 1"
   ]
  },
  {
   "cell_type": "code",
   "execution_count": 654,
   "metadata": {},
   "outputs": [],
   "source": [
    "#Form data kernel\n",
    "d = 1\n",
    "train_kernel_matrix = make_kernel(x_train, x_train, d)\n",
    "test_kernel_matrix = make_kernel(x_train, x_test, d)\n",
    "#Number of classes\n",
    "k = 3\n",
    "#Initialisations\n",
    "alpha = np.zeros((k, m_train))"
   ]
  },
  {
   "cell_type": "code",
   "execution_count": 655,
   "metadata": {},
   "outputs": [
    {
     "name": "stdout",
     "output_type": "stream",
     "text": [
      "Train epoch:\n",
      "Fraction correct:  0.9088145896656535\n",
      "Test epoch:\n",
      "Fraction correct:  0.9692982456140351\n",
      "Train epoch:\n",
      "Fraction correct:  0.9665653495440729\n",
      "Test epoch:\n",
      "Fraction correct:  0.9517543859649122\n",
      "Train epoch:\n",
      "Fraction correct:  1.0\n",
      "Test epoch:\n",
      "Fraction correct:  0.9517543859649122\n"
     ]
    }
   ],
   "source": [
    "for i in range(3):\n",
    "    print(\"Train epoch:\")\n",
    "    alpha = epoch(train_kernel_matrix, alpha, x_train, y_train, True)\n",
    "    print(\"Test epoch:\")\n",
    "    alpha = epoch(test_kernel_matrix, alpha, x_test, y_test, False)"
   ]
  },
  {
   "cell_type": "markdown",
   "metadata": {},
   "source": [
    "## Big Dataset (9298, 256)"
   ]
  },
  {
   "cell_type": "code",
   "execution_count": 701,
   "metadata": {},
   "outputs": [],
   "source": [
    "#Get data\n",
    "x, y = get_data(\"zipcombo.dat\")"
   ]
  },
  {
   "cell_type": "code",
   "execution_count": 715,
   "metadata": {},
   "outputs": [],
   "source": [
    "def run(x, y, d, k, max_num_epochs, seed):\n",
    "    \n",
    "    #Split dataset\n",
    "    x_training, x_test, y_training, y_test = train_test_split(x, y, test_size=0.2, random_state=seed)\n",
    "    x_train, x_cv, y_train, y_cv = train_test_split(x_training, y_training, test_size=0.25, random_state=seed)\n",
    "    m_train, n_test = x_train.shape\n",
    "    m_test, n_test = x_test.shape\n",
    "    \n",
    "    #Form data kernels\n",
    "    train_kernel_matrix = make_kernel(x_train, x_train, d)\n",
    "    cv_kernel_matrix = make_kernel(x_train, x_cv, d)\n",
    "    test_kernel_matrix = make_kernel(x_train, x_test, d)\n",
    "\n",
    "    #Initialisations\n",
    "    alpha = np.zeros((k, m_train))\n",
    "    prev_alpha = alpha\n",
    "    prev_cv_accuracy = 0.0\n",
    "\n",
    "    max_num_epochs = 20\n",
    "    for i in range(max_num_epochs):\n",
    "        alpha, training_accuracy = epoch(train_kernel_matrix, alpha, x_train, y_train, True)\n",
    "\n",
    "        alpha, cv_accuracy = epoch(cv_kernel_matrix, alpha, x_cv, y_cv, False)\n",
    "\n",
    "        if (prev_cv_accuracy > cv_accuracy):\n",
    "            alpha = prev_alpha\n",
    "            alpha, train_accuracy = epoch(train_kernel_matrix, alpha, x_train, y_train, False)\n",
    "            alpha, cv_accuracy = epoch(cv_kernel_matrix, alpha, x_cv, y_cv, False)\n",
    "            alpha, test_accuracy = epoch(test_kernel_matrix, alpha, x_test, y_test, False)\n",
    "            break\n",
    "        prev_cv_accuracy = cv_accuracy\n",
    "        \n",
    "    return alpha, train_accuracy, cv_accuracy, test_accuracy"
   ]
  },
  {
   "cell_type": "code",
   "execution_count": 716,
   "metadata": {},
   "outputs": [
    {
     "data": {
      "text/plain": [
       "(array([[-1.,  1.,  0., ...,  0.,  0.,  0.],\n",
       "        [-2.,  0.,  0., ...,  0.,  0.,  0.],\n",
       "        [ 0.,  0.,  0., ...,  0.,  0.,  0.],\n",
       "        ...,\n",
       "        [ 0.,  0.,  0., ...,  0.,  0.,  0.],\n",
       "        [ 0.,  0.,  0., ...,  0.,  0.,  0.],\n",
       "        [ 0.,  0.,  0., ...,  0.,  0.,  0.]]),\n",
       " 0.9218357834349229,\n",
       " 0.885483870967742,\n",
       " 0.9086021505376344)"
      ]
     },
     "execution_count": 716,
     "metadata": {},
     "output_type": "execute_result"
    }
   ],
   "source": [
    "d = 1\n",
    "k = 10\n",
    "seed = 1\n",
    "run(x, y, d, k, max_num_epochs=20, seed=1)"
   ]
  },
  {
   "cell_type": "code",
   "execution_count": null,
   "metadata": {},
   "outputs": [],
   "source": []
  },
  {
   "cell_type": "code",
   "execution_count": null,
   "metadata": {},
   "outputs": [],
   "source": []
  },
  {
   "cell_type": "code",
   "execution_count": null,
   "metadata": {},
   "outputs": [],
   "source": []
  }
 ],
 "metadata": {
  "kernelspec": {
   "display_name": "Python 3",
   "language": "python",
   "name": "python3"
  },
  "language_info": {
   "codemirror_mode": {
    "name": "ipython",
    "version": 3
   },
   "file_extension": ".py",
   "mimetype": "text/x-python",
   "name": "python",
   "nbconvert_exporter": "python",
   "pygments_lexer": "ipython3",
   "version": "3.6.5"
  }
 },
 "nbformat": 4,
 "nbformat_minor": 2
}
