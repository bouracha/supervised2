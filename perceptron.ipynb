{
 "cells": [
  {
   "cell_type": "code",
   "execution_count": 546,
   "metadata": {},
   "outputs": [],
   "source": [
    "import numpy as np\n",
    "import matplotlib.pyplot as plt\n",
    "\n",
    "from sklearn.model_selection import train_test_split\n",
    "\n",
    "import time"
   ]
  },
  {
   "cell_type": "code",
   "execution_count": 23,
   "metadata": {},
   "outputs": [],
   "source": [
    "def plot_digit(x, index):\n",
    "    image = x[index].reshape(16,16)\n",
    "\n",
    "    plt.imshow(image, 'binary')\n",
    "    plt.axis('off')\n",
    "    plt.show()"
   ]
  },
  {
   "cell_type": "code",
   "execution_count": 16,
   "metadata": {},
   "outputs": [],
   "source": [
    "def sign(x):\n",
    "    if x<0:\n",
    "        return -1.0\n",
    "    else:\n",
    "        return 1.0"
   ]
  },
  {
   "cell_type": "code",
   "execution_count": 597,
   "metadata": {},
   "outputs": [],
   "source": [
    "def get_data(data_path):\n",
    "    data = np.loadtxt(data_path)\n",
    "    \n",
    "    X = data[:, list(range(1, data.shape[1]))] \n",
    "    y = data[:, [0]]\n",
    "    \n",
    "    return X, y"
   ]
  },
  {
   "cell_type": "code",
   "execution_count": 613,
   "metadata": {},
   "outputs": [],
   "source": [
    "def make_kernel(X1, X2, d):\n",
    "    \n",
    "    kernel_matrix = np.power(np.dot(X1, X2.T), d)\n",
    "\n",
    "    return kernel_matrix.T "
   ]
  },
  {
   "cell_type": "code",
   "execution_count": 591,
   "metadata": {},
   "outputs": [],
   "source": [
    "def prediction(kernel_matrix, alpha, t):\n",
    "    \n",
    "    kernel_function = alpha*kernel_matrix[t]\n",
    "    y_pred = np.sum(kernel_function, axis=1)\n",
    "    number_predicted = np.argmax(y_pred)\n",
    "    \n",
    "    return (number_predicted)"
   ]
  },
  {
   "cell_type": "code",
   "execution_count": 592,
   "metadata": {},
   "outputs": [],
   "source": [
    "def update_alpha(alpha, t, y_hat_index, y_index):\n",
    "    \n",
    "    alpha[y_hat_index][t] = alpha[y_hat_index][t] - 1\n",
    "    alpha[y_index][t] = alpha[y_index][t] + 1\n",
    "    return alpha"
   ]
  },
  {
   "cell_type": "code",
   "execution_count": 663,
   "metadata": {},
   "outputs": [],
   "source": [
    "def epoch(kernel, alpha, x, y, update=False):\n",
    "    m, n = x.shape\n",
    "    num_correct = 0\n",
    "    for t in range(m):\n",
    "        y_hat = prediction(kernel, alpha, t)\n",
    "\n",
    "        y_index = int(y[t])\n",
    "        if y_hat == y_index:\n",
    "            num_correct = num_correct + 1\n",
    "        elif update:\n",
    "            alpha = update_alpha(alpha, t, y_hat, y_index)\n",
    "    return alpha, num_correct/m"
   ]
  },
  {
   "cell_type": "markdown",
   "metadata": {},
   "source": [
    "## 123, ABC, baby you and me dataset"
   ]
  },
  {
   "cell_type": "code",
   "execution_count": 651,
   "metadata": {},
   "outputs": [],
   "source": [
    "#Get data\n",
    "x_train, y_train = get_data(\"dtrain123.dat\")\n",
    "x_test, y_test = get_data(\"dtest123.dat\")\n",
    "m_train, n_train = x_train.shape\n",
    "m_test, n_test = x_test.shape\n",
    "#1,2,3 -> 0,1,2\n",
    "y_train = y_train - 1\n",
    "y_test = y_test - 1"
   ]
  },
  {
   "cell_type": "code",
   "execution_count": 654,
   "metadata": {},
   "outputs": [],
   "source": [
    "#Form data kernel\n",
    "d = 1\n",
    "train_kernel_matrix = make_kernel(x_train, x_train, d)\n",
    "test_kernel_matrix = make_kernel(x_train, x_test, d)\n",
    "#Number of classes\n",
    "k = 3\n",
    "#Initialisations\n",
    "alpha = np.zeros((k, m_train))"
   ]
  },
  {
   "cell_type": "code",
   "execution_count": 655,
   "metadata": {},
   "outputs": [
    {
     "name": "stdout",
     "output_type": "stream",
     "text": [
      "Train epoch:\n",
      "Fraction correct:  0.9088145896656535\n",
      "Test epoch:\n",
      "Fraction correct:  0.9692982456140351\n",
      "Train epoch:\n",
      "Fraction correct:  0.9665653495440729\n",
      "Test epoch:\n",
      "Fraction correct:  0.9517543859649122\n",
      "Train epoch:\n",
      "Fraction correct:  1.0\n",
      "Test epoch:\n",
      "Fraction correct:  0.9517543859649122\n"
     ]
    }
   ],
   "source": [
    "for i in range(3):\n",
    "    print(\"Train epoch:\")\n",
    "    alpha = epoch(train_kernel_matrix, alpha, x_train, y_train, True)\n",
    "    print(\"Test epoch:\")\n",
    "    alpha = epoch(test_kernel_matrix, alpha, x_test, y_test, False)"
   ]
  },
  {
   "cell_type": "markdown",
   "metadata": {},
   "source": [
    "## Big Dataset (9298, 256)"
   ]
  },
  {
   "cell_type": "code",
   "execution_count": 619,
   "metadata": {},
   "outputs": [],
   "source": [
    "#Get data\n",
    "x, y = get_data(\"zipcombo.dat\")"
   ]
  },
  {
   "cell_type": "code",
   "execution_count": 679,
   "metadata": {},
   "outputs": [],
   "source": [
    "#Split dataset\n",
    "x_training, x_test, y_training, y_test = train_test_split(x, y, test_size=0.2, random_state=1)\n",
    "x_train, x_cv, y_train, y_cv = train_test_split(x_training, y_training, test_size=0.25, random_state=1)\n",
    "m_train, n_test = x_train.shape\n",
    "m_test, n_test = x_test.shape\n",
    "#Form data kernel\n",
    "d = 1\n",
    "train_kernel_matrix = make_kernel(x_train, x_train, d)\n",
    "cv_kernel_matrix = make_kernel(x_train, x_cv, d)\n",
    "test_kernel_matrix = make_kernel(x_train, x_test, d)\n",
    "#Number of classes\n",
    "k = 10\n",
    "#Initialisations\n",
    "alpha = np.zeros((k, m_train))"
   ]
  },
  {
   "cell_type": "code",
   "execution_count": 680,
   "metadata": {
    "scrolled": true
   },
   "outputs": [
    {
     "name": "stdout",
     "output_type": "stream",
     "text": [
      "Train epoch 0 accuracy: 0.834529 \n",
      "CV epoch 0 accuracy: 0.891398 \n",
      "###################\n",
      "Train epoch 1 accuracy: 0.894944 \n",
      "CV epoch 1 accuracy: 0.912366 \n",
      "###################\n",
      "Train epoch 2 accuracy: 0.907673 \n",
      "CV epoch 2 accuracy: 0.885484 \n",
      "9.95718002319336 seconds\n"
     ]
    }
   ],
   "source": [
    "start = time.time()\n",
    "prev_cv_accuracy = 0.0\n",
    "prev_alpha = alpha\n",
    "num_epochs = 20\n",
    "for i in range(num_epochs):\n",
    "    alpha, train_accuracy = epoch(train_kernel_matrix, alpha, x_train, y_train, True)\n",
    "    print(\"Train epoch %i accuracy: %f \" % (i, train_accuracy))\n",
    "    alpha, cv_accuracy = epoch(cv_kernel_matrix, alpha, x_cv, y_cv, False)\n",
    "    print(\"CV epoch %i accuracy: %f \" % (i, cv_accuracy))\n",
    "    if (prev_cv_accuracy > cv_accuracy):\n",
    "        cv_accuracy = prev_cv_accuracy\n",
    "        alpha = prev_alpha\n",
    "        break\n",
    "    prev_cv_accuracy = cv_accuracy\n",
    "    #alpha, test_accuracy = epoch(test_kernel_matrix, alpha, x_test, y_test, False)\n",
    "    #print(\"Test epoch %i accuracy: %f \" % (i, test_accuracy))\n",
    "    print(\"###################\")\n",
    "stop = time.time()\n",
    "print(stop-start, \"seconds\")"
   ]
  },
  {
   "cell_type": "code",
   "execution_count": 689,
   "metadata": {},
   "outputs": [],
   "source": [
    "def run(x, y, d, k, seed):\n",
    "    \n",
    "    seed = 1\n",
    "    #Split dataset\n",
    "    x_training, x_test, y_training, y_test = train_test_split(x, y, test_size=0.2, random_state=seed)\n",
    "    x_train, x_cv, y_train, y_cv = train_test_split(x_training, y_training, test_size=0.25, random_state=seed)\n",
    "    m_train, n_test = x_train.shape\n",
    "    m_test, n_test = x_test.shape\n",
    "    #Form data kernel\n",
    "\n",
    "    train_kernel_matrix = make_kernel(x_train, x_train, d)\n",
    "    cv_kernel_matrix = make_kernel(x_train, x_cv, d)\n",
    "    test_kernel_matrix = make_kernel(x_train, x_test, d)\n",
    "\n",
    "    #Initialisations\n",
    "    alpha = np.zeros((k, m_train))\n",
    "\n",
    "    prev_cv_accuracy = 0.0\n",
    "    prev_alpha = alpha\n",
    "    num_epochs = 20\n",
    "    for i in range(num_epochs):\n",
    "        alpha, training_accuracy = epoch(train_kernel_matrix, alpha, x_train, y_train, True)\n",
    "        #print(\"Train epoch %i accuracy: %f \" % (i, train_accuracy))\n",
    "        alpha, cv_accuracy = epoch(cv_kernel_matrix, alpha, x_cv, y_cv, False)\n",
    "        #print(\"CV epoch %i accuracy: %f \" % (i, cv_accuracy))\n",
    "        if (prev_cv_accuracy > cv_accuracy):\n",
    "            alpha = prev_alpha\n",
    "            alpha, train_accuracy = epoch(train_kernel_matrix, alpha, x_train, y_train, False)\n",
    "            alpha, cv_accuracy = epoch(cv_kernel_matrix, alpha, x_cv, y_cv, False)\n",
    "            alpha, test_accuracy = epoch(test_kernel_matrix, alpha, x_test, y_test, False)\n",
    "            break\n",
    "        prev_cv_accuracy = cv_accuracy\n",
    "        \n",
    "    return alpha, train_accuracy, cv_accuracy, test_accuracy"
   ]
  },
  {
   "cell_type": "code",
   "execution_count": 690,
   "metadata": {},
   "outputs": [
    {
     "data": {
      "text/plain": [
       "(array([[-1.,  1.,  0., ...,  0.,  0.,  0.],\n",
       "        [-2.,  0.,  0., ...,  0.,  0.,  0.],\n",
       "        [ 0.,  0.,  0., ...,  0.,  0.,  0.],\n",
       "        ...,\n",
       "        [ 0.,  0.,  0., ...,  0.,  0.,  0.],\n",
       "        [ 0.,  0.,  0., ...,  0.,  0.,  0.],\n",
       "        [ 0.,  0.,  0., ...,  0.,  0.,  0.]]),\n",
       " 0.9218357834349229,\n",
       " 0.885483870967742,\n",
       " 0.10698924731182796)"
      ]
     },
     "execution_count": 690,
     "metadata": {},
     "output_type": "execute_result"
    }
   ],
   "source": [
    "run(x, y, d, k, seed=1)"
   ]
  },
  {
   "cell_type": "code",
   "execution_count": null,
   "metadata": {},
   "outputs": [],
   "source": []
  },
  {
   "cell_type": "code",
   "execution_count": null,
   "metadata": {},
   "outputs": [],
   "source": []
  },
  {
   "cell_type": "code",
   "execution_count": 674,
   "metadata": {},
   "outputs": [
    {
     "name": "stdout",
     "output_type": "stream",
     "text": [
      "Train epoch 0 accuracy: 0.947651 \n",
      "CV epoch 0 accuracy: 0.885484 \n",
      "Test epoch 0 accuracy: 0.902151 \n",
      "###################\n",
      "Train epoch 1 accuracy: 0.954285 \n",
      "CV epoch 1 accuracy: 0.906452 \n",
      "Test epoch 1 accuracy: 0.910215 \n",
      "###################\n",
      "Train epoch 2 accuracy: 0.952850 \n",
      "CV epoch 2 accuracy: 0.901613 \n",
      "Test epoch 2 accuracy: 0.912903 \n",
      "###################\n",
      "Train epoch 3 accuracy: 0.955719 \n",
      "CV epoch 3 accuracy: 0.925269 \n",
      "Test epoch 3 accuracy: 0.929570 \n",
      "###################\n",
      "Train epoch 4 accuracy: 0.956436 \n",
      "CV epoch 4 accuracy: 0.908602 \n",
      "Test epoch 4 accuracy: 0.916129 \n",
      "###################\n",
      "Train epoch 5 accuracy: 0.954823 \n",
      "CV epoch 5 accuracy: 0.905376 \n",
      "Test epoch 5 accuracy: 0.919892 \n",
      "###################\n",
      "Train epoch 6 accuracy: 0.953209 \n",
      "CV epoch 6 accuracy: 0.909677 \n",
      "Test epoch 6 accuracy: 0.925806 \n",
      "###################\n",
      "Train epoch 7 accuracy: 0.952492 \n",
      "CV epoch 7 accuracy: 0.904839 \n",
      "Test epoch 7 accuracy: 0.916129 \n",
      "###################\n",
      "Train epoch 8 accuracy: 0.966296 \n",
      "CV epoch 8 accuracy: 0.906452 \n",
      "Test epoch 8 accuracy: 0.920430 \n",
      "###################\n",
      "Train epoch 9 accuracy: 0.958408 \n",
      "CV epoch 9 accuracy: 0.913441 \n",
      "Test epoch 9 accuracy: 0.933871 \n",
      "###################\n",
      "Train epoch 10 accuracy: 0.959663 \n",
      "CV epoch 10 accuracy: 0.909677 \n",
      "Test epoch 10 accuracy: 0.918817 \n",
      "###################\n",
      "Train epoch 11 accuracy: 0.960739 \n",
      "CV epoch 11 accuracy: 0.903763 \n",
      "Test epoch 11 accuracy: 0.918817 \n",
      "###################\n",
      "Train epoch 12 accuracy: 0.960559 \n",
      "CV epoch 12 accuracy: 0.906989 \n",
      "Test epoch 12 accuracy: 0.923118 \n",
      "###################\n",
      "Train epoch 13 accuracy: 0.961097 \n",
      "CV epoch 13 accuracy: 0.908065 \n",
      "Test epoch 13 accuracy: 0.915591 \n",
      "###################\n",
      "Train epoch 14 accuracy: 0.961276 \n",
      "CV epoch 14 accuracy: 0.916667 \n",
      "Test epoch 14 accuracy: 0.927419 \n",
      "###################\n",
      "Train epoch 15 accuracy: 0.968447 \n",
      "CV epoch 15 accuracy: 0.900538 \n",
      "Test epoch 15 accuracy: 0.907527 \n",
      "###################\n",
      "Train epoch 16 accuracy: 0.961814 \n",
      "CV epoch 16 accuracy: 0.915054 \n",
      "Test epoch 16 accuracy: 0.932258 \n",
      "###################\n",
      "Train epoch 17 accuracy: 0.963248 \n",
      "CV epoch 17 accuracy: 0.921505 \n",
      "Test epoch 17 accuracy: 0.929032 \n",
      "###################\n",
      "Train epoch 18 accuracy: 0.965041 \n",
      "CV epoch 18 accuracy: 0.915591 \n",
      "Test epoch 18 accuracy: 0.930645 \n",
      "###################\n",
      "Train epoch 19 accuracy: 0.965041 \n",
      "CV epoch 19 accuracy: 0.912903 \n",
      "Test epoch 19 accuracy: 0.917204 \n",
      "###################\n",
      "79.95573210716248 seconds\n"
     ]
    }
   ],
   "source": [
    "start = time.time()\n",
    "num_epochs = 20\n",
    "for i in range(num_epochs):\n",
    "    alpha, train_accuracy = epoch(train_kernel_matrix, alpha, x_train, y_train, True)\n",
    "    print(\"Train epoch %i accuracy: %f \" % (i, train_accuracy))\n",
    "    alpha, cv_accuracy = epoch(cv_kernel_matrix, alpha, x_cv, y_cv, False)\n",
    "    print(\"CV epoch %i accuracy: %f \" % (i, cv_accuracy))\n",
    "    alpha, test_accuracy = epoch(test_kernel_matrix, alpha, x_test, y_test, False)\n",
    "    print(\"Test epoch %i accuracy: %f \" % (i, test_accuracy))\n",
    "    print(\"###################\")\n",
    "stop = time.time()\n",
    "print(stop-start, \"seconds\")"
   ]
  },
  {
   "cell_type": "code",
   "execution_count": 28,
   "metadata": {},
   "outputs": [
    {
     "data": {
      "image/png": "[encoded data removed]",
      "text/plain": [
       "<Figure size 432x288 with 1 Axes>"
      ]
     },
     "metadata": {
      "needs_background": "light"
     },
     "output_type": "display_data"
    }
   ],
   "source": [
    "plot_digit(x_train, 11)"
   ]
  },
  {
   "cell_type": "code",
   "execution_count": null,
   "metadata": {},
   "outputs": [],
   "source": []
  }
 ],
 "metadata": {
  "kernelspec": {
   "display_name": "Python 3",
   "language": "python",
   "name": "python3"
  },
  "language_info": {
   "codemirror_mode": {
    "name": "ipython",
    "version": 3
   },
   "file_extension": ".py",
   "mimetype": "text/x-python",
   "name": "python",
   "nbconvert_exporter": "python",
   "pygments_lexer": "ipython3",
   "version": "3.6.5"
  }
 },
 "nbformat": 4,
 "nbformat_minor": 2
}
