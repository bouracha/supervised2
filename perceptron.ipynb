{
 "cells": [
  {
   "cell_type": "code",
   "execution_count": 1,
   "metadata": {},
   "outputs": [],
   "source": [
    "import numpy as np\n",
    "import matplotlib.pyplot as plt"
   ]
  },
  {
   "cell_type": "code",
   "execution_count": 23,
   "metadata": {},
   "outputs": [],
   "source": [
    "def plot_digit(x, index):\n",
    "    image = x[index].reshape(16,16)\n",
    "\n",
    "    plt.imshow(image, 'binary')\n",
    "    plt.axis('off')\n",
    "    plt.show()"
   ]
  },
  {
   "cell_type": "code",
   "execution_count": 16,
   "metadata": {},
   "outputs": [],
   "source": [
    "def sign(x):\n",
    "    if x<0:\n",
    "        return -1.0\n",
    "    else:\n",
    "        return 1.0"
   ]
  },
  {
   "cell_type": "code",
   "execution_count": 34,
   "metadata": {},
   "outputs": [],
   "source": [
    "def dot_product_kernel(p, q, d):\n",
    "    return (np.dot(p, q.T)**d)"
   ]
  },
  {
   "cell_type": "code",
   "execution_count": 18,
   "metadata": {},
   "outputs": [],
   "source": [
    "def get_data(data_path):\n",
    "    data = np.loadtxt(data_path)\n",
    "    \n",
    "    X = data[:, list(range(1, data.shape[1]))] \n",
    "    y = data[:, [0]]\n",
    "    \n",
    "    return X, y"
   ]
  },
  {
   "cell_type": "code",
   "execution_count": 363,
   "metadata": {},
   "outputs": [],
   "source": [
    "def make_kernel(X1, X2, d):\n",
    "\n",
    "    m1, n1 = X1.shape\n",
    "    m2, n2 = X2.shape\n",
    "    \n",
    "    kernel_matrix = np.zeros((m1, m2))\n",
    "\n",
    "    for i in range(m1):\n",
    "        for j in range(m2):\n",
    "            kernel_matrix[i][j] = dot_product_kernel(X1[i], X2[j], d)\n",
    "    \n",
    "    return kernel_matrix.T "
   ]
  },
  {
   "cell_type": "code",
   "execution_count": 217,
   "metadata": {},
   "outputs": [],
   "source": [
    "def prediction(kernel_matrix, alpha, t):\n",
    "    \n",
    "    kernel_function = alpha*kernel_matrix[t]\n",
    "    y_pred = np.sum(kernel_function, axis=1)\n",
    "    number_predicted = np.argmax(y_pred)\n",
    "    \n",
    "    return (number_predicted)"
   ]
  },
  {
   "cell_type": "code",
   "execution_count": 244,
   "metadata": {},
   "outputs": [],
   "source": [
    "def update_alpha(alpha, t, y_hat_index, y_index):\n",
    "    \n",
    "    alpha[y_hat_index][t] = alpha[y_hat_index][t] - 1\n",
    "    alpha[y_index][t] = alpha[y_index][t] + 1\n",
    "    return alpha"
   ]
  },
  {
   "cell_type": "code",
   "execution_count": 268,
   "metadata": {},
   "outputs": [],
   "source": [
    "#Get data\n",
    "x_train, y_train = get_data(\"dtrain123.dat\")\n",
    "x_test, y_test = get_data(\"dtest123.dat\")\n",
    "m, n = x_train.shape"
   ]
  },
  {
   "cell_type": "code",
   "execution_count": 379,
   "metadata": {},
   "outputs": [],
   "source": [
    "#Form data kernel\n",
    "d = 1\n",
    "kernel_matrix = make_kernel(x_train, x_train, d)\n",
    "#Number of classes\n",
    "k = 3\n",
    "#Initialisations\n",
    "alpha = np.zeros((k, m))"
   ]
  },
  {
   "cell_type": "code",
   "execution_count": 386,
   "metadata": {},
   "outputs": [
    {
     "name": "stdout",
     "output_type": "stream",
     "text": [
      "Fraction correct:  1.0\n"
     ]
    }
   ],
   "source": [
    "num_correct = 0\n",
    "for t in range(m):\n",
    "    y_hat = prediction(kernel_matrix, alpha, t)\n",
    "    \n",
    "    y_train_index = int(y_train[t]-1)\n",
    "    if y_hat == y_train_index:\n",
    "        num_correct = num_correct + 1\n",
    "    else:\n",
    "        alpha = update_alpha(alpha, t, y_hat, y_train_index)\n",
    "        \n",
    "print(\"Fraction correct: \", num_correct/m)"
   ]
  },
  {
   "cell_type": "code",
   "execution_count": 368,
   "metadata": {},
   "outputs": [
    {
     "data": {
      "text/plain": [
       "array([[-1.,  0.,  1.,  0.,  0.],\n",
       "       [ 0.,  0.,  0.,  0.,  0.],\n",
       "       [ 1.,  0., -1.,  0.,  0.]])"
      ]
     },
     "execution_count": 368,
     "metadata": {},
     "output_type": "execute_result"
    }
   ],
   "source": [
    "alpha[:, 0:5]"
   ]
  },
  {
   "cell_type": "code",
   "execution_count": 377,
   "metadata": {},
   "outputs": [],
   "source": [
    "m_test, n_test = x_test.shape"
   ]
  },
  {
   "cell_type": "code",
   "execution_count": 370,
   "metadata": {},
   "outputs": [],
   "source": [
    "test_kernel_matrix = make_kernel(x_train, x_test, d)"
   ]
  },
  {
   "cell_type": "code",
   "execution_count": 376,
   "metadata": {},
   "outputs": [
    {
     "data": {
      "text/plain": [
       "(456,)"
      ]
     },
     "execution_count": 376,
     "metadata": {},
     "output_type": "execute_result"
    }
   ],
   "source": [
    "test_kernel_matrix[:,0].shape"
   ]
  },
  {
   "cell_type": "code",
   "execution_count": 388,
   "metadata": {},
   "outputs": [
    {
     "name": "stdout",
     "output_type": "stream",
     "text": [
      "Fraction correct:  0.9517543859649122\n"
     ]
    }
   ],
   "source": [
    "num_correct = 0\n",
    "for t in range(m_test):\n",
    "    y_hat = prediction(test_kernel_matrix, alpha, t)\n",
    "    \n",
    "    y_train_index = int(y_test[t]-1)\n",
    "    if y_hat == y_train_index:\n",
    "        num_correct = num_correct + 1\n",
    "        \n",
    "print(\"Fraction correct: \", num_correct/m_test)"
   ]
  },
  {
   "cell_type": "code",
   "execution_count": 395,
   "metadata": {},
   "outputs": [
    {
     "data": {
      "text/plain": [
       "array([3.])"
      ]
     },
     "execution_count": 395,
     "metadata": {},
     "output_type": "execute_result"
    }
   ],
   "source": [
    "y_test[30]"
   ]
  },
  {
   "cell_type": "code",
   "execution_count": 396,
   "metadata": {},
   "outputs": [
    {
     "data": {
      "text/plain": [
       "2"
      ]
     },
     "execution_count": 396,
     "metadata": {},
     "output_type": "execute_result"
    }
   ],
   "source": [
    "prediction(test_kernel_matrix, alpha, 30)"
   ]
  },
  {
   "cell_type": "code",
   "execution_count": null,
   "metadata": {},
   "outputs": [],
   "source": []
  },
  {
   "cell_type": "code",
   "execution_count": null,
   "metadata": {},
   "outputs": [],
   "source": []
  },
  {
   "cell_type": "code",
   "execution_count": 28,
   "metadata": {},
   "outputs": [
    {
     "data": {
      "image/png": "[encoded data removed]",
      "text/plain": [
       "<Figure size 432x288 with 1 Axes>"
      ]
     },
     "metadata": {
      "needs_background": "light"
     },
     "output_type": "display_data"
    }
   ],
   "source": [
    "plot_digit(x_train, 11)"
   ]
  },
  {
   "cell_type": "code",
   "execution_count": null,
   "metadata": {},
   "outputs": [],
   "source": []
  }
 ],
 "metadata": {
  "kernelspec": {
   "display_name": "Python 3",
   "language": "python",
   "name": "python3"
  },
  "language_info": {
   "codemirror_mode": {
    "name": "ipython",
    "version": 3
   },
   "file_extension": ".py",
   "mimetype": "text/x-python",
   "name": "python",
   "nbconvert_exporter": "python",
   "pygments_lexer": "ipython3",
   "version": "3.6.5"
  }
 },
 "nbformat": 4,
 "nbformat_minor": 2
}
